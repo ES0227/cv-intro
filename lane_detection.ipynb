{
 "cells": [
  {
   "cell_type": "code",
   "execution_count": null,
   "metadata": {},
   "outputs": [],
   "source": [
    "import lane_detection_code\n",
    "import cv2\n",
    "import matplotlib.pyplot as plt\n",
    "import numpy as np"
   ]
  },
  {
   "cell_type": "code",
   "execution_count": null,
   "metadata": {},
   "outputs": [],
   "source": [
    "image = cv2.imread('lanes.png')\n",
    "\n",
    "plt.imshow(image)"
   ]
  },
  {
   "cell_type": "code",
   "execution_count": null,
   "metadata": {},
   "outputs": [],
   "source": [
    "image = cv2.imread('lanes.png')\n",
    "\n",
    "lane_detection_code.detect_lines(image)"
   ]
  },
  {
   "cell_type": "code",
   "execution_count": null,
   "metadata": {},
   "outputs": [],
   "source": [
    "image = cv2.imread('lanes.png')\n",
    "lines = lane_detection_code.detect_lines(image)\n",
    "plt.imshow(lane_detection_code.drawLines(image, lines))"
   ]
  },
  {
   "cell_type": "code",
   "execution_count": null,
   "metadata": {},
   "outputs": [],
   "source": [
    "image = cv2.imread('lanes.png')\n",
    "gray = cv2.cvtColor(image, cv2.COLOR_BGR2GRAY)\n",
    "edges = cv2.Canny(gray, 30, 43, apertureSize=3)\n",
    "lines = cv2.HoughLinesP(edges, 2, np.pi/180, 100, minLineLength=667, maxLineGap=33)\n",
    "lane_detection_code.get_slopes_intercepts(lines)"
   ]
  },
  {
   "cell_type": "code",
   "execution_count": null,
   "metadata": {},
   "outputs": [],
   "source": [
    "#test detect_lanes function\n",
    "imageInput = cv2.imread('lanes.png')\n",
    "gray = cv2.cvtColor(imageInput, cv2.COLOR_BGR2GRAY)\n",
    "edges = cv2.Canny(gray, 30, 43, apertureSize=3)\n",
    "lines = cv2.HoughLinesP(edges, 2, np.pi/180, 100, minLineLength=667, maxLineGap=33)\n",
    "lane_detection_code.detect_lanes(imageInput, lines)"
   ]
  },
  {
   "cell_type": "code",
   "execution_count": null,
   "metadata": {},
   "outputs": [],
   "source": [
    "img = cv2.imread('lanes.png')\n",
    "lines = cv2.HoughLinesP(edges, 2, np.pi/180, 100, minLineLength=667, maxLineGap=33)\n",
    "print (lines)\n",
    "lanes = lane_detection_code.detect_lanes(img, lines)\n",
    "print(lanes)\n",
    "lane_detection_code.draw_lanes(img, lanes)\n",
    "plt.imshow(cv2.cvtColor(lane_detection_code.draw_lanes(img, lanes), cv2.COLOR_BGR2RGB))\n",
    "plt.show()"
   ]
  },
  {
   "cell_type": "code",
   "execution_count": null,
   "metadata": {},
   "outputs": [],
   "source": [
    "#test draw_lanes function\n",
    "img = cv2.imread('lanes.png')\n",
    "gray = cv2.cvtColor(img, cv2.COLOR_BGR2GRAY)\n",
    "edges = cv2.Canny(gray, 30, 43, apertureSize=3)\n",
    "lines = cv2.HoughLinesP(edges, 2, np.pi/180, 100, minLineLength=667, maxLineGap=33)\n",
    "lanes = lane_detection_code.detect_lanes(imageInput, lines)\n",
    "plt.imshow(lane_detection_code.draw_lanes(img, lanes))\n"
   ]
  },
  {
   "cell_type": "code",
   "execution_count": null,
   "metadata": {},
   "outputs": [],
   "source": [
    "poolthing = cv2.resize(cv2.imread('lanes.png'), (cv2.imread('lanes.png').shape[1] // 2, cv2.imread('lanes.png').shape[0] // 2))\n",
    "poolImgLanes = lane_detection_code.detect_lines(poolthing, 30, 100, 3, 229, 13)\n",
    "slopes, intercepts = lane_detection_code.get_slopes_intercepts(poolImgLanes)#poolthing, poolImgLanes)\n",
    "lineDict = dict(sorted(zip(intercepts, slopes)))\n",
    "lineDict"
   ]
  },
  {
   "cell_type": "code",
   "execution_count": null,
   "metadata": {},
   "outputs": [],
   "source": [
    "img = cv2.imread('lanes.png')\n",
    "lines = lane_detection_code.detect_lines(img)\n",
    "print (lines)\n",
    "poolLanes = lane_detection_code.detect_lanes(lines)\n",
    "#print (poolLanes)\n",
    "plt.imshow(lane_detection_code.draw_lanes(poolthing, poolLanes))"
   ]
  }
 ],
 "metadata": {
  "kernelspec": {
   "display_name": "Python 3",
   "language": "python",
   "name": "python3"
  },
  "language_info": {
   "codemirror_mode": {
    "name": "ipython",
    "version": 3
   },
   "file_extension": ".py",
   "mimetype": "text/x-python",
   "name": "python",
   "nbconvert_exporter": "python",
   "pygments_lexer": "ipython3",
   "version": "3.9.2"
  },
  "orig_nbformat": 4
 },
 "nbformat": 4,
 "nbformat_minor": 2
}
